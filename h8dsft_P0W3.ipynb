{
  "nbformat": 4,
  "nbformat_minor": 0,
  "metadata": {
    "colab": {
      "name": "h8dsft_P0W3.ipynb",
      "provenance": [],
      "collapsed_sections": []
    },
    "kernelspec": {
      "name": "python3",
      "display_name": "Python 3"
    },
    "language_info": {
      "name": "python"
    }
  },
  "cells": [
    {
      "cell_type": "markdown",
      "metadata": {
        "id": "fGKeE-Y9DF4b"
      },
      "source": [
        "#1. PERKENALAN"
      ]
    },
    {
      "cell_type": "code",
      "metadata": {
        "id": "yAP6DFw9Gwm7"
      },
      "source": [
        "'''\n",
        "Nama      : Rugaya Muksin BSA\n",
        "Bootcamp  : Data Science 006\n",
        "Phase     : 0\n",
        "GC        : 3\n",
        "\n",
        "Sesuai Guidlines saya diperintahkan untuk mengolah data dari kickstarter projects\n",
        "yang merupakan salah satu platform pendanaan terbesar di dunia untuk proyek-proyek kreatif.\n",
        "\n",
        "Dimana data ini sebelum diolah akan diprocess data-nya terlebih dahulu untuk\n",
        "dihandle missing value-nya menggunakan median.\n",
        "\n",
        "Data ini akan diolah untuk menampilkan informasi mengenai measure of tendency\n",
        "dan measure of variance. Data ini juga akan digunakan untuk menyelesaikan sebuah\n",
        "hipotesis testing.\n",
        "\n",
        "'''"
      ],
      "execution_count": null,
      "outputs": []
    },
    {
      "cell_type": "markdown",
      "metadata": {
        "id": "JiEM1PbjDJk6"
      },
      "source": [
        "#2. IMPORT LIBRARY"
      ]
    },
    {
      "cell_type": "code",
      "metadata": {
        "id": "v4Wsoj-ZDOiX"
      },
      "source": [
        "import pandas as pd\n",
        "import numpy as np\n",
        "import matplotlib.pyplot as plt\n",
        "import seaborn as sns\n",
        "import scipy.stats as stats"
      ],
      "execution_count": 7,
      "outputs": []
    },
    {
      "cell_type": "markdown",
      "metadata": {
        "id": "X1foax7zDLmh"
      },
      "source": [
        "#3. DATA LOADING"
      ]
    },
    {
      "cell_type": "code",
      "metadata": {
        "colab": {
          "base_uri": "https://localhost:8080/",
          "height": 946
        },
        "id": "b7b1-DeSDNkh",
        "outputId": "75b7d9b1-8763-4103-fe83-73c123596838"
      },
      "source": [
        "'''\n",
        "Meload data kickstarter projects menggunakan pandas\n",
        "\n",
        "'''\n",
        "\n",
        "ksp = pd.read_csv ('ks-projects-201801.csv')\n",
        "ksp"
      ],
      "execution_count": 8,
      "outputs": [
        {
          "output_type": "execute_result",
          "data": {
            "text/html": [
              "<div>\n",
              "<style scoped>\n",
              "    .dataframe tbody tr th:only-of-type {\n",
              "        vertical-align: middle;\n",
              "    }\n",
              "\n",
              "    .dataframe tbody tr th {\n",
              "        vertical-align: top;\n",
              "    }\n",
              "\n",
              "    .dataframe thead th {\n",
              "        text-align: right;\n",
              "    }\n",
              "</style>\n",
              "<table border=\"1\" class=\"dataframe\">\n",
              "  <thead>\n",
              "    <tr style=\"text-align: right;\">\n",
              "      <th></th>\n",
              "      <th>ID</th>\n",
              "      <th>name</th>\n",
              "      <th>category</th>\n",
              "      <th>main_category</th>\n",
              "      <th>currency</th>\n",
              "      <th>deadline</th>\n",
              "      <th>goal</th>\n",
              "      <th>launched</th>\n",
              "      <th>pledged</th>\n",
              "      <th>state</th>\n",
              "      <th>backers</th>\n",
              "      <th>country</th>\n",
              "      <th>usd pledged</th>\n",
              "      <th>usd_pledged_real</th>\n",
              "      <th>usd_goal_real</th>\n",
              "    </tr>\n",
              "  </thead>\n",
              "  <tbody>\n",
              "    <tr>\n",
              "      <th>0</th>\n",
              "      <td>1000002330</td>\n",
              "      <td>The Songs of Adelaide &amp; Abullah</td>\n",
              "      <td>Poetry</td>\n",
              "      <td>Publishing</td>\n",
              "      <td>GBP</td>\n",
              "      <td>2015-10-09</td>\n",
              "      <td>1000.0</td>\n",
              "      <td>2015-08-11 12:12:28</td>\n",
              "      <td>0.0</td>\n",
              "      <td>failed</td>\n",
              "      <td>0</td>\n",
              "      <td>GB</td>\n",
              "      <td>0.0</td>\n",
              "      <td>0.0</td>\n",
              "      <td>1533.95</td>\n",
              "    </tr>\n",
              "    <tr>\n",
              "      <th>1</th>\n",
              "      <td>1000003930</td>\n",
              "      <td>Greeting From Earth: ZGAC Arts Capsule For ET</td>\n",
              "      <td>Narrative Film</td>\n",
              "      <td>Film &amp; Video</td>\n",
              "      <td>USD</td>\n",
              "      <td>2017-11-01</td>\n",
              "      <td>30000.0</td>\n",
              "      <td>2017-09-02 04:43:57</td>\n",
              "      <td>2421.0</td>\n",
              "      <td>failed</td>\n",
              "      <td>15</td>\n",
              "      <td>US</td>\n",
              "      <td>100.0</td>\n",
              "      <td>2421.0</td>\n",
              "      <td>30000.00</td>\n",
              "    </tr>\n",
              "    <tr>\n",
              "      <th>2</th>\n",
              "      <td>1000004038</td>\n",
              "      <td>Where is Hank?</td>\n",
              "      <td>Narrative Film</td>\n",
              "      <td>Film &amp; Video</td>\n",
              "      <td>USD</td>\n",
              "      <td>2013-02-26</td>\n",
              "      <td>45000.0</td>\n",
              "      <td>2013-01-12 00:20:50</td>\n",
              "      <td>220.0</td>\n",
              "      <td>failed</td>\n",
              "      <td>3</td>\n",
              "      <td>US</td>\n",
              "      <td>220.0</td>\n",
              "      <td>220.0</td>\n",
              "      <td>45000.00</td>\n",
              "    </tr>\n",
              "    <tr>\n",
              "      <th>3</th>\n",
              "      <td>1000007540</td>\n",
              "      <td>ToshiCapital Rekordz Needs Help to Complete Album</td>\n",
              "      <td>Music</td>\n",
              "      <td>Music</td>\n",
              "      <td>USD</td>\n",
              "      <td>2012-04-16</td>\n",
              "      <td>5000.0</td>\n",
              "      <td>2012-03-17 03:24:11</td>\n",
              "      <td>1.0</td>\n",
              "      <td>failed</td>\n",
              "      <td>1</td>\n",
              "      <td>US</td>\n",
              "      <td>1.0</td>\n",
              "      <td>1.0</td>\n",
              "      <td>5000.00</td>\n",
              "    </tr>\n",
              "    <tr>\n",
              "      <th>4</th>\n",
              "      <td>1000011046</td>\n",
              "      <td>Community Film Project: The Art of Neighborhoo...</td>\n",
              "      <td>Film &amp; Video</td>\n",
              "      <td>Film &amp; Video</td>\n",
              "      <td>USD</td>\n",
              "      <td>2015-08-29</td>\n",
              "      <td>19500.0</td>\n",
              "      <td>2015-07-04 08:35:03</td>\n",
              "      <td>1283.0</td>\n",
              "      <td>canceled</td>\n",
              "      <td>14</td>\n",
              "      <td>US</td>\n",
              "      <td>1283.0</td>\n",
              "      <td>1283.0</td>\n",
              "      <td>19500.00</td>\n",
              "    </tr>\n",
              "    <tr>\n",
              "      <th>...</th>\n",
              "      <td>...</td>\n",
              "      <td>...</td>\n",
              "      <td>...</td>\n",
              "      <td>...</td>\n",
              "      <td>...</td>\n",
              "      <td>...</td>\n",
              "      <td>...</td>\n",
              "      <td>...</td>\n",
              "      <td>...</td>\n",
              "      <td>...</td>\n",
              "      <td>...</td>\n",
              "      <td>...</td>\n",
              "      <td>...</td>\n",
              "      <td>...</td>\n",
              "      <td>...</td>\n",
              "    </tr>\n",
              "    <tr>\n",
              "      <th>81838</th>\n",
              "      <td>1416112782</td>\n",
              "      <td>Reprint of \"Tox, or Everyboy\" eccentric WWI an...</td>\n",
              "      <td>Nonfiction</td>\n",
              "      <td>Publishing</td>\n",
              "      <td>USD</td>\n",
              "      <td>2012-06-24</td>\n",
              "      <td>9450.0</td>\n",
              "      <td>2012-05-25 19:45:00</td>\n",
              "      <td>146.0</td>\n",
              "      <td>failed</td>\n",
              "      <td>5</td>\n",
              "      <td>US</td>\n",
              "      <td>146.0</td>\n",
              "      <td>146.0</td>\n",
              "      <td>9450.00</td>\n",
              "    </tr>\n",
              "    <tr>\n",
              "      <th>81839</th>\n",
              "      <td>141611351</td>\n",
              "      <td>Encore - Enhance your concert experience!</td>\n",
              "      <td>Apps</td>\n",
              "      <td>Technology</td>\n",
              "      <td>GBP</td>\n",
              "      <td>2017-12-01</td>\n",
              "      <td>37500.0</td>\n",
              "      <td>2017-11-01 15:13:30</td>\n",
              "      <td>0.0</td>\n",
              "      <td>failed</td>\n",
              "      <td>0</td>\n",
              "      <td>GB</td>\n",
              "      <td>0.0</td>\n",
              "      <td>0.0</td>\n",
              "      <td>50579.98</td>\n",
              "    </tr>\n",
              "    <tr>\n",
              "      <th>81840</th>\n",
              "      <td>141612042</td>\n",
              "      <td>Kata Muktu Short Caveman Film</td>\n",
              "      <td>Experimental</td>\n",
              "      <td>Film &amp; Video</td>\n",
              "      <td>USD</td>\n",
              "      <td>2015-05-25</td>\n",
              "      <td>250.0</td>\n",
              "      <td>2015-04-21 23:17:25</td>\n",
              "      <td>275.0</td>\n",
              "      <td>successful</td>\n",
              "      <td>7</td>\n",
              "      <td>US</td>\n",
              "      <td>275.0</td>\n",
              "      <td>275.0</td>\n",
              "      <td>250.00</td>\n",
              "    </tr>\n",
              "    <tr>\n",
              "      <th>81841</th>\n",
              "      <td>1416124088</td>\n",
              "      <td>\"Collecting Anchors\" full length album</td>\n",
              "      <td>Punk</td>\n",
              "      <td>Music</td>\n",
              "      <td>USD</td>\n",
              "      <td>2015-05-12</td>\n",
              "      <td>5000.0</td>\n",
              "      <td>2015-04-20 01:33:38</td>\n",
              "      <td>5104.0</td>\n",
              "      <td>successful</td>\n",
              "      <td>125</td>\n",
              "      <td>US</td>\n",
              "      <td>5104.0</td>\n",
              "      <td>5104.0</td>\n",
              "      <td>5000.00</td>\n",
              "    </tr>\n",
              "    <tr>\n",
              "      <th>81842</th>\n",
              "      <td>1416129098</td>\n",
              "      <td>Streaming games and building a community</td>\n",
              "      <td>Video Games</td>\n",
              "      <td>Games</td>\n",
              "      <td>USD</td>\n",
              "      <td>2014-08-20</td>\n",
              "      <td>3200.0</td>\n",
              "      <td>2014-07-21 19:23:58</td>\n",
              "      <td>25.0</td>\n",
              "      <td>failed</td>\n",
              "      <td>2</td>\n",
              "      <td>US</td>\n",
              "      <td>25.0</td>\n",
              "      <td>NaN</td>\n",
              "      <td>NaN</td>\n",
              "    </tr>\n",
              "  </tbody>\n",
              "</table>\n",
              "<p>81843 rows × 15 columns</p>\n",
              "</div>"
            ],
            "text/plain": [
              "               ID  ... usd_goal_real\n",
              "0      1000002330  ...       1533.95\n",
              "1      1000003930  ...      30000.00\n",
              "2      1000004038  ...      45000.00\n",
              "3      1000007540  ...       5000.00\n",
              "4      1000011046  ...      19500.00\n",
              "...           ...  ...           ...\n",
              "81838  1416112782  ...       9450.00\n",
              "81839   141611351  ...      50579.98\n",
              "81840   141612042  ...        250.00\n",
              "81841  1416124088  ...       5000.00\n",
              "81842  1416129098  ...           NaN\n",
              "\n",
              "[81843 rows x 15 columns]"
            ]
          },
          "metadata": {},
          "execution_count": 8
        }
      ]
    },
    {
      "cell_type": "markdown",
      "metadata": {
        "id": "rH1k-RBiEndr"
      },
      "source": [
        "#4. EXPLORATORY DATA ANALYSIS (EDA)"
      ]
    },
    {
      "cell_type": "code",
      "metadata": {
        "colab": {
          "base_uri": "https://localhost:8080/"
        },
        "id": "SnjUzDCUEpzX",
        "outputId": "309184cb-36e4-45a0-f1c0-4f9a30522b24"
      },
      "source": [
        "'''\n",
        "Menampilkan informasi mengenai nama kolom, jumlah kolom dan baris, type data,\n",
        "missing value, dll.\n",
        "\n",
        "'''\n",
        "\n",
        "ksp.info()"
      ],
      "execution_count": 9,
      "outputs": [
        {
          "output_type": "stream",
          "name": "stdout",
          "text": [
            "<class 'pandas.core.frame.DataFrame'>\n",
            "RangeIndex: 81843 entries, 0 to 81842\n",
            "Data columns (total 15 columns):\n",
            " #   Column            Non-Null Count  Dtype  \n",
            "---  ------            --------------  -----  \n",
            " 0   ID                81843 non-null  int64  \n",
            " 1   name              81843 non-null  object \n",
            " 2   category          81843 non-null  object \n",
            " 3   main_category     81843 non-null  object \n",
            " 4   currency          81843 non-null  object \n",
            " 5   deadline          81843 non-null  object \n",
            " 6   goal              81843 non-null  float64\n",
            " 7   launched          81843 non-null  object \n",
            " 8   pledged           81843 non-null  float64\n",
            " 9   state             81843 non-null  object \n",
            " 10  backers           81843 non-null  int64  \n",
            " 11  country           81843 non-null  object \n",
            " 12  usd pledged       81039 non-null  float64\n",
            " 13  usd_pledged_real  81842 non-null  float64\n",
            " 14  usd_goal_real     81842 non-null  float64\n",
            "dtypes: float64(5), int64(2), object(8)\n",
            "memory usage: 9.4+ MB\n"
          ]
        }
      ]
    },
    {
      "cell_type": "markdown",
      "metadata": {
        "id": "C714Cuq6nnSZ"
      },
      "source": [
        "###4.1 Manipulasi kolom"
      ]
    },
    {
      "cell_type": "code",
      "metadata": {
        "colab": {
          "base_uri": "https://localhost:8080/",
          "height": 423
        },
        "id": "t7cl6JANFVCC",
        "outputId": "20a1e858-b508-4523-8835-91d7a12e05c2"
      },
      "source": [
        "'''\n",
        "Dari informasi yang didapatkan terdapat missing value di kolom dengan nilai numerik.\n",
        "Saya mengelompokkan kolom dengan nilai numerik dalam sebuah dataset baru yaitu\n",
        "ksp_num untuk diatasi missing value-nya.\n",
        "\n",
        "'''\n",
        "\n",
        "ksp_num = ksp.select_dtypes(include= np.number)\n",
        "ksp_num"
      ],
      "execution_count": 10,
      "outputs": [
        {
          "output_type": "execute_result",
          "data": {
            "text/html": [
              "<div>\n",
              "<style scoped>\n",
              "    .dataframe tbody tr th:only-of-type {\n",
              "        vertical-align: middle;\n",
              "    }\n",
              "\n",
              "    .dataframe tbody tr th {\n",
              "        vertical-align: top;\n",
              "    }\n",
              "\n",
              "    .dataframe thead th {\n",
              "        text-align: right;\n",
              "    }\n",
              "</style>\n",
              "<table border=\"1\" class=\"dataframe\">\n",
              "  <thead>\n",
              "    <tr style=\"text-align: right;\">\n",
              "      <th></th>\n",
              "      <th>ID</th>\n",
              "      <th>goal</th>\n",
              "      <th>pledged</th>\n",
              "      <th>backers</th>\n",
              "      <th>usd pledged</th>\n",
              "      <th>usd_pledged_real</th>\n",
              "      <th>usd_goal_real</th>\n",
              "    </tr>\n",
              "  </thead>\n",
              "  <tbody>\n",
              "    <tr>\n",
              "      <th>0</th>\n",
              "      <td>1000002330</td>\n",
              "      <td>1000.0</td>\n",
              "      <td>0.0</td>\n",
              "      <td>0</td>\n",
              "      <td>0.0</td>\n",
              "      <td>0.0</td>\n",
              "      <td>1533.95</td>\n",
              "    </tr>\n",
              "    <tr>\n",
              "      <th>1</th>\n",
              "      <td>1000003930</td>\n",
              "      <td>30000.0</td>\n",
              "      <td>2421.0</td>\n",
              "      <td>15</td>\n",
              "      <td>100.0</td>\n",
              "      <td>2421.0</td>\n",
              "      <td>30000.00</td>\n",
              "    </tr>\n",
              "    <tr>\n",
              "      <th>2</th>\n",
              "      <td>1000004038</td>\n",
              "      <td>45000.0</td>\n",
              "      <td>220.0</td>\n",
              "      <td>3</td>\n",
              "      <td>220.0</td>\n",
              "      <td>220.0</td>\n",
              "      <td>45000.00</td>\n",
              "    </tr>\n",
              "    <tr>\n",
              "      <th>3</th>\n",
              "      <td>1000007540</td>\n",
              "      <td>5000.0</td>\n",
              "      <td>1.0</td>\n",
              "      <td>1</td>\n",
              "      <td>1.0</td>\n",
              "      <td>1.0</td>\n",
              "      <td>5000.00</td>\n",
              "    </tr>\n",
              "    <tr>\n",
              "      <th>4</th>\n",
              "      <td>1000011046</td>\n",
              "      <td>19500.0</td>\n",
              "      <td>1283.0</td>\n",
              "      <td>14</td>\n",
              "      <td>1283.0</td>\n",
              "      <td>1283.0</td>\n",
              "      <td>19500.00</td>\n",
              "    </tr>\n",
              "    <tr>\n",
              "      <th>...</th>\n",
              "      <td>...</td>\n",
              "      <td>...</td>\n",
              "      <td>...</td>\n",
              "      <td>...</td>\n",
              "      <td>...</td>\n",
              "      <td>...</td>\n",
              "      <td>...</td>\n",
              "    </tr>\n",
              "    <tr>\n",
              "      <th>81838</th>\n",
              "      <td>1416112782</td>\n",
              "      <td>9450.0</td>\n",
              "      <td>146.0</td>\n",
              "      <td>5</td>\n",
              "      <td>146.0</td>\n",
              "      <td>146.0</td>\n",
              "      <td>9450.00</td>\n",
              "    </tr>\n",
              "    <tr>\n",
              "      <th>81839</th>\n",
              "      <td>141611351</td>\n",
              "      <td>37500.0</td>\n",
              "      <td>0.0</td>\n",
              "      <td>0</td>\n",
              "      <td>0.0</td>\n",
              "      <td>0.0</td>\n",
              "      <td>50579.98</td>\n",
              "    </tr>\n",
              "    <tr>\n",
              "      <th>81840</th>\n",
              "      <td>141612042</td>\n",
              "      <td>250.0</td>\n",
              "      <td>275.0</td>\n",
              "      <td>7</td>\n",
              "      <td>275.0</td>\n",
              "      <td>275.0</td>\n",
              "      <td>250.00</td>\n",
              "    </tr>\n",
              "    <tr>\n",
              "      <th>81841</th>\n",
              "      <td>1416124088</td>\n",
              "      <td>5000.0</td>\n",
              "      <td>5104.0</td>\n",
              "      <td>125</td>\n",
              "      <td>5104.0</td>\n",
              "      <td>5104.0</td>\n",
              "      <td>5000.00</td>\n",
              "    </tr>\n",
              "    <tr>\n",
              "      <th>81842</th>\n",
              "      <td>1416129098</td>\n",
              "      <td>3200.0</td>\n",
              "      <td>25.0</td>\n",
              "      <td>2</td>\n",
              "      <td>25.0</td>\n",
              "      <td>NaN</td>\n",
              "      <td>NaN</td>\n",
              "    </tr>\n",
              "  </tbody>\n",
              "</table>\n",
              "<p>81843 rows × 7 columns</p>\n",
              "</div>"
            ],
            "text/plain": [
              "               ID     goal  ...  usd_pledged_real  usd_goal_real\n",
              "0      1000002330   1000.0  ...               0.0        1533.95\n",
              "1      1000003930  30000.0  ...            2421.0       30000.00\n",
              "2      1000004038  45000.0  ...             220.0       45000.00\n",
              "3      1000007540   5000.0  ...               1.0        5000.00\n",
              "4      1000011046  19500.0  ...            1283.0       19500.00\n",
              "...           ...      ...  ...               ...            ...\n",
              "81838  1416112782   9450.0  ...             146.0        9450.00\n",
              "81839   141611351  37500.0  ...               0.0       50579.98\n",
              "81840   141612042    250.0  ...             275.0         250.00\n",
              "81841  1416124088   5000.0  ...            5104.0        5000.00\n",
              "81842  1416129098   3200.0  ...               NaN            NaN\n",
              "\n",
              "[81843 rows x 7 columns]"
            ]
          },
          "metadata": {},
          "execution_count": 10
        }
      ]
    },
    {
      "cell_type": "code",
      "metadata": {
        "colab": {
          "base_uri": "https://localhost:8080/"
        },
        "id": "fiS5M2JxlUrG",
        "outputId": "0a62eb94-8551-4d17-e5b2-362ba5ff0b7e"
      },
      "source": [
        "'''\n",
        "Menyimpan numerik future di dalam list\n",
        "\n",
        "'''\n",
        "\n",
        "columns_num = ksp_num.columns.to_list()\n",
        "\n",
        "ksp_num.info()"
      ],
      "execution_count": 11,
      "outputs": [
        {
          "output_type": "stream",
          "name": "stdout",
          "text": [
            "<class 'pandas.core.frame.DataFrame'>\n",
            "RangeIndex: 81843 entries, 0 to 81842\n",
            "Data columns (total 7 columns):\n",
            " #   Column            Non-Null Count  Dtype  \n",
            "---  ------            --------------  -----  \n",
            " 0   ID                81843 non-null  int64  \n",
            " 1   goal              81843 non-null  float64\n",
            " 2   pledged           81843 non-null  float64\n",
            " 3   backers           81843 non-null  int64  \n",
            " 4   usd pledged       81039 non-null  float64\n",
            " 5   usd_pledged_real  81842 non-null  float64\n",
            " 6   usd_goal_real     81842 non-null  float64\n",
            "dtypes: float64(5), int64(2)\n",
            "memory usage: 4.4 MB\n"
          ]
        }
      ]
    },
    {
      "cell_type": "markdown",
      "metadata": {
        "id": "xEmcR9RQncxY"
      },
      "source": [
        "###Handling missing value"
      ]
    },
    {
      "cell_type": "code",
      "metadata": {
        "colab": {
          "base_uri": "https://localhost:8080/"
        },
        "id": "UyE33wD6luS6",
        "outputId": "bdfec578-d678-4b33-b7ce-c147a5f2c2c9"
      },
      "source": [
        "'''\n",
        "Cek apakah terdapat missing value di dalam dataset\n",
        "\n",
        "'''\n",
        "\n",
        "for col in columns_num:\n",
        "  total_missing = ksp[col].isnull().sum()\n",
        "  if total_missing > 0:\n",
        "    print(col, ' : ', total_missing)"
      ],
      "execution_count": 12,
      "outputs": [
        {
          "output_type": "stream",
          "name": "stdout",
          "text": [
            "usd pledged  :  804\n",
            "usd_pledged_real  :  1\n",
            "usd_goal_real  :  1\n"
          ]
        }
      ]
    },
    {
      "cell_type": "code",
      "metadata": {
        "colab": {
          "base_uri": "https://localhost:8080/",
          "height": 300
        },
        "id": "CRkqzHXOmDtG",
        "outputId": "229ed1ad-58a8-4129-c24c-a8c1ef47c5d0"
      },
      "source": [
        "'''\n",
        "cek dataset sebelum handling missing value\n",
        "\n",
        "'''\n",
        "\n",
        "ksp.describe()"
      ],
      "execution_count": 13,
      "outputs": [
        {
          "output_type": "execute_result",
          "data": {
            "text/html": [
              "<div>\n",
              "<style scoped>\n",
              "    .dataframe tbody tr th:only-of-type {\n",
              "        vertical-align: middle;\n",
              "    }\n",
              "\n",
              "    .dataframe tbody tr th {\n",
              "        vertical-align: top;\n",
              "    }\n",
              "\n",
              "    .dataframe thead th {\n",
              "        text-align: right;\n",
              "    }\n",
              "</style>\n",
              "<table border=\"1\" class=\"dataframe\">\n",
              "  <thead>\n",
              "    <tr style=\"text-align: right;\">\n",
              "      <th></th>\n",
              "      <th>ID</th>\n",
              "      <th>goal</th>\n",
              "      <th>pledged</th>\n",
              "      <th>backers</th>\n",
              "      <th>usd pledged</th>\n",
              "      <th>usd_pledged_real</th>\n",
              "      <th>usd_goal_real</th>\n",
              "    </tr>\n",
              "  </thead>\n",
              "  <tbody>\n",
              "    <tr>\n",
              "      <th>count</th>\n",
              "      <td>8.184300e+04</td>\n",
              "      <td>8.184300e+04</td>\n",
              "      <td>8.184300e+04</td>\n",
              "      <td>81843.000000</td>\n",
              "      <td>8.103900e+04</td>\n",
              "      <td>8.184200e+04</td>\n",
              "      <td>8.184200e+04</td>\n",
              "    </tr>\n",
              "    <tr>\n",
              "      <th>mean</th>\n",
              "      <td>1.098748e+09</td>\n",
              "      <td>4.592793e+04</td>\n",
              "      <td>9.715358e+03</td>\n",
              "      <td>105.572071</td>\n",
              "      <td>7.026138e+03</td>\n",
              "      <td>9.097662e+03</td>\n",
              "      <td>4.370372e+04</td>\n",
              "    </tr>\n",
              "    <tr>\n",
              "      <th>std</th>\n",
              "      <td>3.483405e+08</td>\n",
              "      <td>1.137943e+06</td>\n",
              "      <td>8.589383e+04</td>\n",
              "      <td>924.774530</td>\n",
              "      <td>6.664749e+04</td>\n",
              "      <td>8.156966e+04</td>\n",
              "      <td>1.223592e+06</td>\n",
              "    </tr>\n",
              "    <tr>\n",
              "      <th>min</th>\n",
              "      <td>1.061440e+05</td>\n",
              "      <td>1.000000e+00</td>\n",
              "      <td>0.000000e+00</td>\n",
              "      <td>0.000000</td>\n",
              "      <td>0.000000e+00</td>\n",
              "      <td>0.000000e+00</td>\n",
              "      <td>4.900000e-01</td>\n",
              "    </tr>\n",
              "    <tr>\n",
              "      <th>25%</th>\n",
              "      <td>1.068786e+09</td>\n",
              "      <td>2.000000e+03</td>\n",
              "      <td>3.100000e+01</td>\n",
              "      <td>2.000000</td>\n",
              "      <td>1.800000e+01</td>\n",
              "      <td>3.100000e+01</td>\n",
              "      <td>2.000000e+03</td>\n",
              "    </tr>\n",
              "    <tr>\n",
              "      <th>50%</th>\n",
              "      <td>1.184616e+09</td>\n",
              "      <td>5.100000e+03</td>\n",
              "      <td>6.280000e+02</td>\n",
              "      <td>12.000000</td>\n",
              "      <td>4.000000e+02</td>\n",
              "      <td>6.300000e+02</td>\n",
              "      <td>5.483480e+03</td>\n",
              "    </tr>\n",
              "    <tr>\n",
              "      <th>75%</th>\n",
              "      <td>1.300728e+09</td>\n",
              "      <td>1.600000e+04</td>\n",
              "      <td>4.103900e+03</td>\n",
              "      <td>57.000000</td>\n",
              "      <td>3.050000e+03</td>\n",
              "      <td>4.072380e+03</td>\n",
              "      <td>1.535489e+04</td>\n",
              "    </tr>\n",
              "    <tr>\n",
              "      <th>max</th>\n",
              "      <td>1.416129e+09</td>\n",
              "      <td>1.000000e+08</td>\n",
              "      <td>8.596475e+06</td>\n",
              "      <td>154926.000000</td>\n",
              "      <td>8.596475e+06</td>\n",
              "      <td>8.596475e+06</td>\n",
              "      <td>1.663614e+08</td>\n",
              "    </tr>\n",
              "  </tbody>\n",
              "</table>\n",
              "</div>"
            ],
            "text/plain": [
              "                 ID          goal  ...  usd_pledged_real  usd_goal_real\n",
              "count  8.184300e+04  8.184300e+04  ...      8.184200e+04   8.184200e+04\n",
              "mean   1.098748e+09  4.592793e+04  ...      9.097662e+03   4.370372e+04\n",
              "std    3.483405e+08  1.137943e+06  ...      8.156966e+04   1.223592e+06\n",
              "min    1.061440e+05  1.000000e+00  ...      0.000000e+00   4.900000e-01\n",
              "25%    1.068786e+09  2.000000e+03  ...      3.100000e+01   2.000000e+03\n",
              "50%    1.184616e+09  5.100000e+03  ...      6.300000e+02   5.483480e+03\n",
              "75%    1.300728e+09  1.600000e+04  ...      4.072380e+03   1.535489e+04\n",
              "max    1.416129e+09  1.000000e+08  ...      8.596475e+06   1.663614e+08\n",
              "\n",
              "[8 rows x 7 columns]"
            ]
          },
          "metadata": {},
          "execution_count": 13
        }
      ]
    },
    {
      "cell_type": "code",
      "metadata": {
        "colab": {
          "base_uri": "https://localhost:8080/",
          "height": 300
        },
        "id": "5TMXfRVAmSaz",
        "outputId": "102b0293-1bb6-4442-c790-e458be75470c"
      },
      "source": [
        "'''\n",
        "Mengatasi missing value dengan menggunakan median\n",
        "\n",
        "'''\n",
        "\n",
        "ksp['goal'] = ksp['goal'].fillna(ksp['goal'].median())\n",
        "ksp['pledged'] = ksp['pledged'].fillna(ksp['pledged'].median())\n",
        "ksp['backers'] = ksp['backers'].fillna(ksp['backers'].median())\n",
        "ksp['usd pledged'] = ksp['usd pledged'].fillna(ksp['usd pledged'].median())\n",
        "ksp['usd_pledged_real'] = ksp['usd_pledged_real'].fillna(ksp['usd_pledged_real'].median())\n",
        "ksp['usd_goal_real'] = ksp['usd_goal_real'].fillna(ksp['usd_goal_real'].median())\n",
        "\n",
        "ksp.describe()"
      ],
      "execution_count": 14,
      "outputs": [
        {
          "output_type": "execute_result",
          "data": {
            "text/html": [
              "<div>\n",
              "<style scoped>\n",
              "    .dataframe tbody tr th:only-of-type {\n",
              "        vertical-align: middle;\n",
              "    }\n",
              "\n",
              "    .dataframe tbody tr th {\n",
              "        vertical-align: top;\n",
              "    }\n",
              "\n",
              "    .dataframe thead th {\n",
              "        text-align: right;\n",
              "    }\n",
              "</style>\n",
              "<table border=\"1\" class=\"dataframe\">\n",
              "  <thead>\n",
              "    <tr style=\"text-align: right;\">\n",
              "      <th></th>\n",
              "      <th>ID</th>\n",
              "      <th>goal</th>\n",
              "      <th>pledged</th>\n",
              "      <th>backers</th>\n",
              "      <th>usd pledged</th>\n",
              "      <th>usd_pledged_real</th>\n",
              "      <th>usd_goal_real</th>\n",
              "    </tr>\n",
              "  </thead>\n",
              "  <tbody>\n",
              "    <tr>\n",
              "      <th>count</th>\n",
              "      <td>8.184300e+04</td>\n",
              "      <td>8.184300e+04</td>\n",
              "      <td>8.184300e+04</td>\n",
              "      <td>81843.000000</td>\n",
              "      <td>8.184300e+04</td>\n",
              "      <td>8.184300e+04</td>\n",
              "      <td>8.184300e+04</td>\n",
              "    </tr>\n",
              "    <tr>\n",
              "      <th>mean</th>\n",
              "      <td>1.098748e+09</td>\n",
              "      <td>4.592793e+04</td>\n",
              "      <td>9.715358e+03</td>\n",
              "      <td>105.572071</td>\n",
              "      <td>6.961045e+03</td>\n",
              "      <td>9.097558e+03</td>\n",
              "      <td>4.370325e+04</td>\n",
              "    </tr>\n",
              "    <tr>\n",
              "      <th>std</th>\n",
              "      <td>3.483405e+08</td>\n",
              "      <td>1.137943e+06</td>\n",
              "      <td>8.589383e+04</td>\n",
              "      <td>924.774530</td>\n",
              "      <td>6.632254e+04</td>\n",
              "      <td>8.156916e+04</td>\n",
              "      <td>1.223585e+06</td>\n",
              "    </tr>\n",
              "    <tr>\n",
              "      <th>min</th>\n",
              "      <td>1.061440e+05</td>\n",
              "      <td>1.000000e+00</td>\n",
              "      <td>0.000000e+00</td>\n",
              "      <td>0.000000</td>\n",
              "      <td>0.000000e+00</td>\n",
              "      <td>0.000000e+00</td>\n",
              "      <td>4.900000e-01</td>\n",
              "    </tr>\n",
              "    <tr>\n",
              "      <th>25%</th>\n",
              "      <td>1.068786e+09</td>\n",
              "      <td>2.000000e+03</td>\n",
              "      <td>3.100000e+01</td>\n",
              "      <td>2.000000</td>\n",
              "      <td>2.000000e+01</td>\n",
              "      <td>3.100000e+01</td>\n",
              "      <td>2.000000e+03</td>\n",
              "    </tr>\n",
              "    <tr>\n",
              "      <th>50%</th>\n",
              "      <td>1.184616e+09</td>\n",
              "      <td>5.100000e+03</td>\n",
              "      <td>6.280000e+02</td>\n",
              "      <td>12.000000</td>\n",
              "      <td>4.000000e+02</td>\n",
              "      <td>6.300000e+02</td>\n",
              "      <td>5.483480e+03</td>\n",
              "    </tr>\n",
              "    <tr>\n",
              "      <th>75%</th>\n",
              "      <td>1.300728e+09</td>\n",
              "      <td>1.600000e+04</td>\n",
              "      <td>4.103900e+03</td>\n",
              "      <td>57.000000</td>\n",
              "      <td>3.015000e+03</td>\n",
              "      <td>4.072350e+03</td>\n",
              "      <td>1.535377e+04</td>\n",
              "    </tr>\n",
              "    <tr>\n",
              "      <th>max</th>\n",
              "      <td>1.416129e+09</td>\n",
              "      <td>1.000000e+08</td>\n",
              "      <td>8.596475e+06</td>\n",
              "      <td>154926.000000</td>\n",
              "      <td>8.596475e+06</td>\n",
              "      <td>8.596475e+06</td>\n",
              "      <td>1.663614e+08</td>\n",
              "    </tr>\n",
              "  </tbody>\n",
              "</table>\n",
              "</div>"
            ],
            "text/plain": [
              "                 ID          goal  ...  usd_pledged_real  usd_goal_real\n",
              "count  8.184300e+04  8.184300e+04  ...      8.184300e+04   8.184300e+04\n",
              "mean   1.098748e+09  4.592793e+04  ...      9.097558e+03   4.370325e+04\n",
              "std    3.483405e+08  1.137943e+06  ...      8.156916e+04   1.223585e+06\n",
              "min    1.061440e+05  1.000000e+00  ...      0.000000e+00   4.900000e-01\n",
              "25%    1.068786e+09  2.000000e+03  ...      3.100000e+01   2.000000e+03\n",
              "50%    1.184616e+09  5.100000e+03  ...      6.300000e+02   5.483480e+03\n",
              "75%    1.300728e+09  1.600000e+04  ...      4.072350e+03   1.535377e+04\n",
              "max    1.416129e+09  1.000000e+08  ...      8.596475e+06   1.663614e+08\n",
              "\n",
              "[8 rows x 7 columns]"
            ]
          },
          "metadata": {},
          "execution_count": 14
        }
      ]
    },
    {
      "cell_type": "code",
      "metadata": {
        "colab": {
          "base_uri": "https://localhost:8080/"
        },
        "id": "yS5tY2zRnP3H",
        "outputId": "10ccc26d-a6b4-4821-9c5e-baf82dca75d6"
      },
      "source": [
        "'''\n",
        "Cek apakah masih ada missing value di dalam dataset\n",
        "\n",
        "'''\n",
        "\n",
        "for col in columns_num:\n",
        "  total_missing = ksp[col].isnull().sum()\n",
        "  print(col, ' : ', total_missing)\n",
        "\n",
        "print('Total Columns : ', len(columns_num))"
      ],
      "execution_count": 15,
      "outputs": [
        {
          "output_type": "stream",
          "name": "stdout",
          "text": [
            "ID  :  0\n",
            "goal  :  0\n",
            "pledged  :  0\n",
            "backers  :  0\n",
            "usd pledged  :  0\n",
            "usd_pledged_real  :  0\n",
            "usd_goal_real  :  0\n",
            "Total Columns :  7\n"
          ]
        }
      ]
    },
    {
      "cell_type": "markdown",
      "metadata": {
        "id": "Bedue4QYLl9i"
      },
      "source": [
        "#5. MEASURE OF CENTRAL TENDENCY"
      ]
    },
    {
      "cell_type": "markdown",
      "metadata": {
        "id": "XcvfVE32S81i"
      },
      "source": [
        "###5.1 MEAN"
      ]
    },
    {
      "cell_type": "code",
      "metadata": {
        "colab": {
          "base_uri": "https://localhost:8080/",
          "height": 300
        },
        "id": "x58oVwBNLohi",
        "outputId": "759c3caf-92a7-4448-e311-8f5b74038486"
      },
      "source": [
        "ksp.describe()"
      ],
      "execution_count": 16,
      "outputs": [
        {
          "output_type": "execute_result",
          "data": {
            "text/html": [
              "<div>\n",
              "<style scoped>\n",
              "    .dataframe tbody tr th:only-of-type {\n",
              "        vertical-align: middle;\n",
              "    }\n",
              "\n",
              "    .dataframe tbody tr th {\n",
              "        vertical-align: top;\n",
              "    }\n",
              "\n",
              "    .dataframe thead th {\n",
              "        text-align: right;\n",
              "    }\n",
              "</style>\n",
              "<table border=\"1\" class=\"dataframe\">\n",
              "  <thead>\n",
              "    <tr style=\"text-align: right;\">\n",
              "      <th></th>\n",
              "      <th>ID</th>\n",
              "      <th>goal</th>\n",
              "      <th>pledged</th>\n",
              "      <th>backers</th>\n",
              "      <th>usd pledged</th>\n",
              "      <th>usd_pledged_real</th>\n",
              "      <th>usd_goal_real</th>\n",
              "    </tr>\n",
              "  </thead>\n",
              "  <tbody>\n",
              "    <tr>\n",
              "      <th>count</th>\n",
              "      <td>8.184300e+04</td>\n",
              "      <td>8.184300e+04</td>\n",
              "      <td>8.184300e+04</td>\n",
              "      <td>81843.000000</td>\n",
              "      <td>8.184300e+04</td>\n",
              "      <td>8.184300e+04</td>\n",
              "      <td>8.184300e+04</td>\n",
              "    </tr>\n",
              "    <tr>\n",
              "      <th>mean</th>\n",
              "      <td>1.098748e+09</td>\n",
              "      <td>4.592793e+04</td>\n",
              "      <td>9.715358e+03</td>\n",
              "      <td>105.572071</td>\n",
              "      <td>6.961045e+03</td>\n",
              "      <td>9.097558e+03</td>\n",
              "      <td>4.370325e+04</td>\n",
              "    </tr>\n",
              "    <tr>\n",
              "      <th>std</th>\n",
              "      <td>3.483405e+08</td>\n",
              "      <td>1.137943e+06</td>\n",
              "      <td>8.589383e+04</td>\n",
              "      <td>924.774530</td>\n",
              "      <td>6.632254e+04</td>\n",
              "      <td>8.156916e+04</td>\n",
              "      <td>1.223585e+06</td>\n",
              "    </tr>\n",
              "    <tr>\n",
              "      <th>min</th>\n",
              "      <td>1.061440e+05</td>\n",
              "      <td>1.000000e+00</td>\n",
              "      <td>0.000000e+00</td>\n",
              "      <td>0.000000</td>\n",
              "      <td>0.000000e+00</td>\n",
              "      <td>0.000000e+00</td>\n",
              "      <td>4.900000e-01</td>\n",
              "    </tr>\n",
              "    <tr>\n",
              "      <th>25%</th>\n",
              "      <td>1.068786e+09</td>\n",
              "      <td>2.000000e+03</td>\n",
              "      <td>3.100000e+01</td>\n",
              "      <td>2.000000</td>\n",
              "      <td>2.000000e+01</td>\n",
              "      <td>3.100000e+01</td>\n",
              "      <td>2.000000e+03</td>\n",
              "    </tr>\n",
              "    <tr>\n",
              "      <th>50%</th>\n",
              "      <td>1.184616e+09</td>\n",
              "      <td>5.100000e+03</td>\n",
              "      <td>6.280000e+02</td>\n",
              "      <td>12.000000</td>\n",
              "      <td>4.000000e+02</td>\n",
              "      <td>6.300000e+02</td>\n",
              "      <td>5.483480e+03</td>\n",
              "    </tr>\n",
              "    <tr>\n",
              "      <th>75%</th>\n",
              "      <td>1.300728e+09</td>\n",
              "      <td>1.600000e+04</td>\n",
              "      <td>4.103900e+03</td>\n",
              "      <td>57.000000</td>\n",
              "      <td>3.015000e+03</td>\n",
              "      <td>4.072350e+03</td>\n",
              "      <td>1.535377e+04</td>\n",
              "    </tr>\n",
              "    <tr>\n",
              "      <th>max</th>\n",
              "      <td>1.416129e+09</td>\n",
              "      <td>1.000000e+08</td>\n",
              "      <td>8.596475e+06</td>\n",
              "      <td>154926.000000</td>\n",
              "      <td>8.596475e+06</td>\n",
              "      <td>8.596475e+06</td>\n",
              "      <td>1.663614e+08</td>\n",
              "    </tr>\n",
              "  </tbody>\n",
              "</table>\n",
              "</div>"
            ],
            "text/plain": [
              "                 ID          goal  ...  usd_pledged_real  usd_goal_real\n",
              "count  8.184300e+04  8.184300e+04  ...      8.184300e+04   8.184300e+04\n",
              "mean   1.098748e+09  4.592793e+04  ...      9.097558e+03   4.370325e+04\n",
              "std    3.483405e+08  1.137943e+06  ...      8.156916e+04   1.223585e+06\n",
              "min    1.061440e+05  1.000000e+00  ...      0.000000e+00   4.900000e-01\n",
              "25%    1.068786e+09  2.000000e+03  ...      3.100000e+01   2.000000e+03\n",
              "50%    1.184616e+09  5.100000e+03  ...      6.300000e+02   5.483480e+03\n",
              "75%    1.300728e+09  1.600000e+04  ...      4.072350e+03   1.535377e+04\n",
              "max    1.416129e+09  1.000000e+08  ...      8.596475e+06   1.663614e+08\n",
              "\n",
              "[8 rows x 7 columns]"
            ]
          },
          "metadata": {},
          "execution_count": 16
        }
      ]
    },
    {
      "cell_type": "code",
      "metadata": {
        "colab": {
          "base_uri": "https://localhost:8080/"
        },
        "id": "EXU_rrj5NT-c",
        "outputId": "ffbd97d6-f9a9-49bd-b57a-4d8145939082"
      },
      "source": [
        "print(ksp['backers'].describe())\n",
        "ksp['backers'].describe()['mean']"
      ],
      "execution_count": 17,
      "outputs": [
        {
          "output_type": "stream",
          "name": "stdout",
          "text": [
            "count     81843.000000\n",
            "mean        105.572071\n",
            "std         924.774530\n",
            "min           0.000000\n",
            "25%           2.000000\n",
            "50%          12.000000\n",
            "75%          57.000000\n",
            "max      154926.000000\n",
            "Name: backers, dtype: float64\n"
          ]
        },
        {
          "output_type": "execute_result",
          "data": {
            "text/plain": [
              "105.57207091626651"
            ]
          },
          "metadata": {},
          "execution_count": 17
        }
      ]
    },
    {
      "cell_type": "markdown",
      "metadata": {
        "id": "R95SgvnITFCt"
      },
      "source": [
        "###5.2 MEDIAN"
      ]
    },
    {
      "cell_type": "code",
      "metadata": {
        "colab": {
          "base_uri": "https://localhost:8080/"
        },
        "id": "V_7ohLSHTHr9",
        "outputId": "b886c21f-965c-4fe1-9f23-eb2558e5fad5"
      },
      "source": [
        "ksp['backers'].median()"
      ],
      "execution_count": 18,
      "outputs": [
        {
          "output_type": "execute_result",
          "data": {
            "text/plain": [
              "12.0"
            ]
          },
          "metadata": {},
          "execution_count": 18
        }
      ]
    },
    {
      "cell_type": "markdown",
      "metadata": {
        "id": "z9DKNCaKTGG6"
      },
      "source": [
        "###5.3 MODE"
      ]
    },
    {
      "cell_type": "code",
      "metadata": {
        "colab": {
          "base_uri": "https://localhost:8080/"
        },
        "id": "via2iS9KTFcg",
        "outputId": "ac2857da-b71b-43c3-a575-9815196ea00c"
      },
      "source": [
        "ksp['backers'].mode()"
      ],
      "execution_count": 19,
      "outputs": [
        {
          "output_type": "execute_result",
          "data": {
            "text/plain": [
              "0    0\n",
              "dtype: int64"
            ]
          },
          "metadata": {},
          "execution_count": 19
        }
      ]
    },
    {
      "cell_type": "markdown",
      "metadata": {
        "id": "U_m5914FpgWI"
      },
      "source": [
        "#6. MEASURE OF VARIANCE"
      ]
    },
    {
      "cell_type": "markdown",
      "metadata": {
        "id": "J1gxlHfKdvXG"
      },
      "source": [
        "###6.1 RANGE"
      ]
    },
    {
      "cell_type": "code",
      "metadata": {
        "colab": {
          "base_uri": "https://localhost:8080/"
        },
        "id": "PcD9GfDidw8i",
        "outputId": "954701ad-9a75-40e8-c494-73668519e34c"
      },
      "source": [
        "num_columns = ksp.describe().columns\n",
        "print(ksp[num_columns].max()-ksp[num_columns].min())"
      ],
      "execution_count": 20,
      "outputs": [
        {
          "output_type": "stream",
          "name": "stdout",
          "text": [
            "ID                  1.416023e+09\n",
            "goal                1.000000e+08\n",
            "pledged             8.596475e+06\n",
            "backers             1.549260e+05\n",
            "usd pledged         8.596475e+06\n",
            "usd_pledged_real    8.596475e+06\n",
            "usd_goal_real       1.663614e+08\n",
            "dtype: float64\n"
          ]
        }
      ]
    },
    {
      "cell_type": "markdown",
      "metadata": {
        "id": "moA2ojqId2uL"
      },
      "source": [
        "###6.2 VARIANCE"
      ]
    },
    {
      "cell_type": "code",
      "metadata": {
        "colab": {
          "base_uri": "https://localhost:8080/"
        },
        "id": "x9zhsaIAd6X-",
        "outputId": "3da64a4d-b219-4240-c36f-8f0bf804b6ee"
      },
      "source": [
        "print(\"Numeric columns Variance\")\n",
        "print(ksp.var())\n",
        "print(\"\")"
      ],
      "execution_count": 21,
      "outputs": [
        {
          "output_type": "stream",
          "name": "stdout",
          "text": [
            "Numeric columns Variance\n",
            "ID                  1.213411e+17\n",
            "goal                1.294914e+12\n",
            "pledged             7.377751e+09\n",
            "backers             8.552079e+05\n",
            "usd pledged         4.398679e+09\n",
            "usd_pledged_real    6.653528e+09\n",
            "usd_goal_real       1.497160e+12\n",
            "dtype: float64\n",
            "\n"
          ]
        }
      ]
    },
    {
      "cell_type": "markdown",
      "metadata": {
        "id": "WyBoeJdKdknq"
      },
      "source": [
        "###6.3 STANDARD DEVIATION"
      ]
    },
    {
      "cell_type": "code",
      "metadata": {
        "colab": {
          "base_uri": "https://localhost:8080/"
        },
        "id": "DIvPv_RfdoJE",
        "outputId": "0d07b223-b252-41be-a85c-94ad56010bec"
      },
      "source": [
        "print(\"Numeric columns Standard Deviation\")\n",
        "print(ksp.std())\n",
        "print(\"\")"
      ],
      "execution_count": 22,
      "outputs": [
        {
          "output_type": "stream",
          "name": "stdout",
          "text": [
            "Numeric columns Standard Deviation\n",
            "ID                  3.483405e+08\n",
            "goal                1.137943e+06\n",
            "pledged             8.589383e+04\n",
            "backers             9.247745e+02\n",
            "usd pledged         6.632254e+04\n",
            "usd_pledged_real    8.156916e+04\n",
            "usd_goal_real       1.223585e+06\n",
            "dtype: float64\n",
            "\n"
          ]
        }
      ]
    },
    {
      "cell_type": "markdown",
      "metadata": {
        "id": "Syu1rSHWp7zv"
      },
      "source": [
        "#7. HYPOTESYS TESTING"
      ]
    },
    {
      "cell_type": "markdown",
      "metadata": {
        "id": "NPDGXn2OaHto"
      },
      "source": [
        "Saya punya kecurigaan bahwa setiap **category** memiliki besar pendanaan dan sponsor yang berbeda. Khususnya Music dan Documentary.\n",
        "\n",
        "\n",
        "\n",
        "\n",
        "\n",
        "$$ H_0: \\mu_{Music} = \\mu_{Documentary} $$\n",
        "$$ H_1: \\mu_{Music} \\neq \\mu_{Documentary} $$"
      ]
    },
    {
      "cell_type": "code",
      "source": [
        "backers_music = ksp[ksp['category']=='Music'][['backers', 'usd_goal_real']].groupby('backers').sum()\n",
        "backers_documentary = ksp[ksp['category']=='Documentary'][['backers', 'usd_goal_real']].groupby('backers').sum()\n",
        "\n",
        "print('Average of Music Category: ${}'.format(np.round(backers_music.usd_goal_real.mean())))\n",
        "print('Average of Documentary Category: ${}'.format(np.round(backers_documentary.usd_goal_real.mean())))"
      ],
      "metadata": {
        "colab": {
          "base_uri": "https://localhost:8080/"
        },
        "id": "bmJgXB5Bn5ed",
        "outputId": "ebc915b9-ba35-4870-967a-ca6a76a4546f"
      },
      "execution_count": 23,
      "outputs": [
        {
          "output_type": "stream",
          "name": "stdout",
          "text": [
            "Average of Music Category: $328037.0\n",
            "Average of Documentary Category: $480827.0\n"
          ]
        }
      ]
    },
    {
      "cell_type": "code",
      "metadata": {
        "colab": {
          "base_uri": "https://localhost:8080/"
        },
        "id": "qP-hBeYx0ZRR",
        "outputId": "eaa7f0ea-9970-49fa-c30c-1ef4527a4051"
      },
      "source": [
        "t_stat, p_val = stats.ttest_ind(backers_music,backers_documentary)\n",
        "print('P-value:',p_val[0]) \n",
        "print('t-statistics:',t_stat[0])"
      ],
      "execution_count": 24,
      "outputs": [
        {
          "output_type": "stream",
          "name": "stdout",
          "text": [
            "P-value: 0.6761765882313173\n",
            "t-statistics: -0.41784486259777104\n"
          ]
        }
      ]
    },
    {
      "cell_type": "code",
      "metadata": {
        "colab": {
          "base_uri": "https://localhost:8080/",
          "height": 450
        },
        "id": "0E78BEm50reN",
        "outputId": "9f936511-480a-4728-a8fb-faa3f39f67f5"
      },
      "source": [
        "music_pop = np.random.normal(backers_music.usd_goal_real.mean(),backers_music.usd_goal_real.std(),80000)\n",
        "documentary_pop = np.random.normal(backers_documentary.usd_goal_real.mean(),backers_documentary.usd_goal_real.std(),80000)\n",
        "\n",
        "ci = stats.norm.interval(0.95, backers_music.usd_goal_real.mean(), backers_music.usd_goal_real.std())\n",
        "plt.figure(figsize=(16,5))\n",
        "sns.distplot(music_pop, label='Music Average *Pop',color='blue')\n",
        "sns.distplot(documentary_pop, label='Documentary Average *Pop',color='red')\n",
        "\n",
        "plt.axvline(backers_music.usd_goal_real.mean(), color='blue', linewidth=2, label='Music mean')\n",
        "plt.axvline(backers_documentary.usd_goal_real.mean(), color='red',  linewidth=2, label='Documentary mean')\n",
        "\n",
        "plt.axvline(ci[1], color='green', linestyle='dashed', linewidth=2, label='confidence threshold of 95%')\n",
        "plt.axvline(ci[0], color='green', linestyle='dashed', linewidth=2)\n",
        "\n",
        "plt.axvline(music_pop.mean()+t_stat[0]*music_pop.std(), color='black', linestyle='dashed', linewidth=2, label = 'Alternative Hypothesis')\n",
        "plt.axvline(music_pop.mean()-t_stat[0]*music_pop.std(), color='black', linestyle='dashed', linewidth=2)\n",
        "\n",
        "plt.legend()"
      ],
      "execution_count": 34,
      "outputs": [
        {
          "output_type": "stream",
          "name": "stderr",
          "text": [
            "/usr/local/lib/python3.7/dist-packages/seaborn/distributions.py:2619: FutureWarning: `distplot` is a deprecated function and will be removed in a future version. Please adapt your code to use either `displot` (a figure-level function with similar flexibility) or `histplot` (an axes-level function for histograms).\n",
            "  warnings.warn(msg, FutureWarning)\n",
            "/usr/local/lib/python3.7/dist-packages/seaborn/distributions.py:2619: FutureWarning: `distplot` is a deprecated function and will be removed in a future version. Please adapt your code to use either `displot` (a figure-level function with similar flexibility) or `histplot` (an axes-level function for histograms).\n",
            "  warnings.warn(msg, FutureWarning)\n"
          ]
        },
        {
          "output_type": "execute_result",
          "data": {
            "text/plain": [
              "<matplotlib.legend.Legend at 0x7f06404841d0>"
            ]
          },
          "metadata": {},
          "execution_count": 34
        },
        {
          "output_type": "display_data",
          "data": {
            "image/png": "[encoded data removed]",
            "text/plain": [
              "<Figure size 1152x360 with 1 Axes>"
            ]
          },
          "metadata": {
            "needs_background": "light"
          }
        }
      ]
    },
    {
      "cell_type": "markdown",
      "source": [
        "Berdasarkan hasil di atas, dapat disimpulkan bahwa diterima hipotesis nol. Antara category Music dan Documentary tidak berbeda secara signifikan dalam hal pendanaan dan sponsor."
      ],
      "metadata": {
        "id": "Uihg_q-DzWDQ"
      }
    },
    {
      "cell_type": "markdown",
      "metadata": {
        "id": "7ETKB4SKb_xg"
      },
      "source": [
        "#7. HASIL DAN KESIMPULAN"
      ]
    },
    {
      "cell_type": "markdown",
      "source": [
        "7.1 Hasil Measure of Tendency\n",
        "\n",
        "*   MOT mean : 103.73306936500953\n",
        "*   MOT median : 12.0\n",
        "*   MOT mode : 0.0"
      ],
      "metadata": {
        "id": "7JP-HcLO3Ufs"
      }
    },
    {
      "cell_type": "markdown",
      "source": [
        "7.2 Hasil dari Measure of Variance"
      ],
      "metadata": {
        "id": "fgyv9FY63xCG"
      }
    },
    {
      "cell_type": "code",
      "source": [
        "'''\n",
        "MOV range : \n",
        "ID                  1.172929e+09\n",
        "goal                1.000000e+08\n",
        "pledged             8.596475e+06\n",
        "backers             8.558100e+04\n",
        "usd pledged         8.596475e+06\n",
        "usd_pledged_real    8.596475e+06\n",
        "usd_goal_real       1.000000e+08\n",
        "\n",
        "MOV variance : \n",
        "ID                  8.929211e+16\n",
        "goal                7.964178e+11\n",
        "pledged             9.270577e+09\n",
        "backers             7.531087e+05\n",
        "usd pledged         6.335930e+09\n",
        "usd_pledged_real    8.784973e+09\n",
        "usd_goal_real       6.939648e+11\n",
        "\n",
        "MOV standar deviasi:\n",
        "ID                  2.988178e+08\n",
        "goal                8.924224e+05\n",
        "pledged             9.628384e+04\n",
        "backers             8.678184e+02\n",
        "usd pledged         7.959856e+04\n",
        "usd_pledged_real    9.372819e+04\n",
        "usd_goal_real       8.330455e+05\n",
        "\n",
        "'''"
      ],
      "metadata": {
        "id": "4MOQno8PsdGD"
      },
      "execution_count": null,
      "outputs": []
    },
    {
      "cell_type": "markdown",
      "source": [
        "7.3 Hasil Hipotesis Testing\n",
        "\n",
        "$$TERIMA -> H0 $$\n",
        "\n",
        "\n",
        "**P-value: 0.6761765882313173**\n",
        "\n",
        "Critical value: 0.05\n",
        "\n",
        "\n",
        "\n",
        "Terima H0 karena p-value > 0.05\n",
        "\n",
        "\n",
        "Nilai p-value lebih besar dari critical value sehingga peluang untuk menerima H0 sangat besar. Dengan demikian kecurigaan saya bahwa setiap category khususnya category Music dan Documentary memiliki besar pendanaan dan sponsor yang berbeda DITOLAK. \n"
      ],
      "metadata": {
        "id": "cW5cSOMw35CE"
      }
    }
  ]
}